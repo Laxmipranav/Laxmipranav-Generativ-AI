{
  "nbformat": 4,
  "nbformat_minor": 0,
  "metadata": {
    "colab": {
      "provenance": [],
      "toc_visible": true,
      "authorship_tag": "ABX9TyMySUfA0ghBd39JTp5fHFl5",
      "include_colab_link": true
    },
    "kernelspec": {
      "name": "python3",
      "display_name": "Python 3"
    },
    "language_info": {
      "name": "python"
    }
  },
  "cells": [
    {
      "cell_type": "markdown",
      "metadata": {
        "id": "view-in-github",
        "colab_type": "text"
      },
      "source": [
        "<a href=\"https://colab.research.google.com/github/Laxmipranav/Laxmipranav-Generativ-AI/blob/main/2303A52403_week_3_ass_3.ipynb\" target=\"_parent\"><img src=\"https://colab.research.google.com/assets/colab-badge.svg\" alt=\"Open In Colab\"/></a>"
      ]
    },
    {
      "cell_type": "markdown",
      "source": [
        "1. . (1 ponto) Write Python code without using any libraries to find the value of x at which the\n",
        "function f(x) shown in equation (1) has minimum value. Consider Gradient Descent Algorithm.\n",
        "f (x) = 5x4 + 3x2 + 10"
      ],
      "metadata": {
        "id": "feKMq9bFIvzm"
      }
    },
    {
      "cell_type": "code",
      "execution_count": null,
      "metadata": {
        "colab": {
          "base_uri": "https://localhost:8080/"
        },
        "id": "5ePTZTv4_Rfy",
        "outputId": "6cbd7f56-d0bc-4870-ddc2-2d04d1784eb5"
      },
      "outputs": [
        {
          "output_type": "stream",
          "name": "stdout",
          "text": [
            "Min x for f(x): 0.0\n"
          ]
        }
      ],
      "source": [
        "import numpy as np\n",
        "\n",
        "def grad_desc_f1_np(lr=0.01, iters=1000):\n",
        "    x = 0.0\n",
        "    for _ in range(iters):\n",
        "         grad = 20 * x**3 + 6 * x\n",
        "         x -= lr * grad\n",
        "    return x\n",
        "\n",
        "print(\"Min x for f(x):\", grad_desc_f1_np())"
      ]
    },
    {
      "cell_type": "markdown",
      "source": [
        "2. 1 ponto) Write Python code without using any libraries to find the value of x and y at which the\n",
        "function g(x,y) shown in equation (2) has minimum value. Consider Gradient Descent Algorithm.\n",
        "f (x) = 3x2 + 5e−y + 10"
      ],
      "metadata": {
        "id": "ASVzqZChI4mV"
      }
    },
    {
      "cell_type": "code",
      "source": [
        "def gradient_descent_2d(alpha=0.01, epsilon=1e-6, max_iter=10000):\n",
        "    def f_prime_x(x):\n",
        "        return 6 * x\n",
        "\n",
        "    def f_prime_y(y):\n",
        "        return -5 * (2.718281828459045 ** (-y))\n",
        "\n",
        "    x, y = 0.0, 0.0\n",
        "    for _ in range(max_iter):\n",
        "        grad_x = f_prime_x(x)\n",
        "        grad_y = f_prime_y(y)\n",
        "        if abs(grad_x) < epsilon and abs(grad_y) < epsilon:\n",
        "            break\n",
        "        x -= alpha * grad_x\n",
        "        y -= alpha * grad_y\n",
        "    return x, y\n",
        "\n",
        "x_min, y_min = gradient_descent_2d()\n",
        "print(f\"Minimum value of g(x, y) occurs at x = {x_min}, y = {y_min}\")"
      ],
      "metadata": {
        "colab": {
          "base_uri": "https://localhost:8080/"
        },
        "id": "oqXBXpuDCm5H",
        "outputId": "f9922f2b-e050-4a37-a5ba-2d333528eee9"
      },
      "execution_count": null,
      "outputs": [
        {
          "output_type": "stream",
          "name": "stdout",
          "text": [
            "Minimum value of g(x, y) occurs at x = 0.0, y = 6.216917124174048\n"
          ]
        }
      ]
    },
    {
      "cell_type": "markdown",
      "source": [
        "3. (1 ponto) Write Python code without using any libraries to find the value of x at which the\n",
        "sigmoid function z(x) shown in equation (3) has minimum value. Consider Gradient Descent\n",
        "Algorithm.\n",
        "z(x) = 1\n",
        "1 + e−x"
      ],
      "metadata": {
        "id": "OZPc3MX2I_4s"
      }
    },
    {
      "cell_type": "code",
      "source": [
        "def gradient_descent_sigmoid(alpha=0.01, epsilon=1e-6, max_iter=10000):\n",
        "    def z_prime(x):\n",
        "        exp_neg_x = 2.718281828459045 ** (-x)\n",
        "        return -exp_neg_x / ((1 + exp_neg_x) ** 2)\n",
        "\n",
        "    x = 0.0\n",
        "    for _ in range(max_iter):\n",
        "        grad = z_prime(x)\n",
        "        if abs(grad) < epsilon:\n",
        "            break\n",
        "        x -= alpha * grad\n",
        "    return x\n",
        "\n",
        "x_min_sigmoid = gradient_descent_sigmoid()\n",
        "print(f\"Minimum value of z(x) occurs at x = {x_min_sigmoid}\")"
      ],
      "metadata": {
        "colab": {
          "base_uri": "https://localhost:8080/"
        },
        "id": "ZDRKjcihECc_",
        "outputId": "fd2b349b-b3dc-4707-81a0-f613359570e9"
      },
      "execution_count": null,
      "outputs": [
        {
          "output_type": "stream",
          "name": "stdout",
          "text": [
            "Minimum value of z(x) occurs at x = 4.510913300793877\n"
          ]
        }
      ]
    },
    {
      "cell_type": "markdown",
      "source": [
        "4. (1 ponto) Write Python code without using any libraries to find the value of optimal values of\n",
        "model parameters M and C such that the model’s Square Error Value shown in equation 4 will\n",
        "be minimum. It means model gives output close to expected output as shown in Figure 1\n",
        "![q4.png](data:image/png;base64,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)"
      ],
      "metadata": {
        "id": "mbsGCuuwJG0F"
      }
    },
    {
      "cell_type": "code",
      "source": [
        "def gradient_descent_linear(alpha=0.01, epsilon=1e-6, max_iter=10000):\n",
        "    expected_outputs = [1, 2, 3, 4, 5]\n",
        "    inputs = [1, 2, 3, 4, 5]\n",
        "\n",
        "    def predicted_output(m, c, x):\n",
        "        return m * x + c\n",
        "\n",
        "    def se_grad_m(m, c):\n",
        "        return -2 * sum((e - predicted_output(m, c, x)) * x for e, x in zip(expected_outputs, inputs))\n",
        "\n",
        "    def se_grad_c(m, c):\n",
        "        return -2 * sum(e - predicted_output(m, c, x) for e, x in zip(expected_outputs, inputs))\n",
        "\n",
        "    m, c = 0.0, 0.0\n",
        "    for _ in range(max_iter):\n",
        "        grad_m = se_grad_m(m, c)\n",
        "        grad_c = se_grad_c(m, c)\n",
        "        if abs(grad_m) < epsilon and abs(grad_c) < epsilon:\n",
        "            break\n",
        "        m -= alpha * grad_m\n",
        "        c -= alpha * grad_c\n",
        "    return m, c\n",
        "\n",
        "m_opt, c_opt = gradient_descent_linear()\n",
        "print(f\"Optimal values are M = {m_opt}, C = {c_opt}\")\n"
      ],
      "metadata": {
        "colab": {
          "base_uri": "https://localhost:8080/"
        },
        "id": "rByVg6FcEJNu",
        "outputId": "c40fb1b8-985e-4778-8e62-2e9dee543ac5"
      },
      "execution_count": null,
      "outputs": [
        {
          "output_type": "stream",
          "name": "stdout",
          "text": [
            "Optimal values are M = 0.9999998375829822, C = 5.863769691679814e-07\n"
          ]
        }
      ]
    }
  ]
}